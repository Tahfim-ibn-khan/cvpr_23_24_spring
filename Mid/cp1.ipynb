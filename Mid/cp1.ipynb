{
 "cells": [
  {
   "cell_type": "markdown",
   "id": "2eb3bc86",
   "metadata": {},
   "source": [
    "# List operation"
   ]
  },
  {
   "cell_type": "code",
   "execution_count": 2,
   "id": "82007552",
   "metadata": {},
   "outputs": [
    {
     "name": "stdout",
     "output_type": "stream",
     "text": [
      "1\n",
      "2\n",
      "3\n",
      "4\n",
      "5\n",
      "6\n",
      "7\n",
      "8\n",
      "9\n",
      "10\n"
     ]
    }
   ],
   "source": [
    "#creating a list containing valus from 1 to 10\n",
    "list=[1,2,3,4,5,6,7,8,9,10]\n",
    "#displaying the values\n",
    "for i in list:\n",
    "    print(i)"
   ]
  },
  {
   "cell_type": "code",
   "execution_count": 3,
   "id": "fcc5b305",
   "metadata": {},
   "outputs": [
    {
     "name": "stdout",
     "output_type": "stream",
     "text": [
      "[1, 4, 9, 16, 25, 36, 49, 64, 81, 100]\n"
     ]
    }
   ],
   "source": [
    "list=[x**2 for x in list] #doing list comprehension\n",
    "print(list)"
   ]
  },
  {
   "cell_type": "code",
   "execution_count": 4,
   "id": "958db99a",
   "metadata": {},
   "outputs": [
    {
     "name": "stdout",
     "output_type": "stream",
     "text": [
      "1\n",
      "4\n",
      "9\n",
      "16\n",
      "25\n",
      "36\n",
      "49\n",
      "64\n",
      "81\n",
      "100\n"
     ]
    }
   ],
   "source": [
    "for i in list:\n",
    "    print(i)"
   ]
  },
  {
   "cell_type": "markdown",
   "id": "1fa730af",
   "metadata": {},
   "source": [
    "# Tuples operation"
   ]
  },
  {
   "cell_type": "code",
   "execution_count": 13,
   "id": "f1cde0a9",
   "metadata": {},
   "outputs": [
    {
     "name": "stdout",
     "output_type": "stream",
     "text": [
      "1 + 2 = 2\n",
      "2 + 4 = 8\n",
      "8 + 6 = 48\n",
      "48 + 8 = 384\n",
      "384 + 10 = 3840\n",
      "Final sum: 3840\n"
     ]
    }
   ],
   "source": [
    "#creating a tuple using ()\n",
    "tuples = (2, 4, 6, 8, 10)\n",
    "sum = 1 #Initializing a value for sum otherwise it will be 0\n",
    "for i in tuples:\n",
    "    print(f\"{sum} + {i} = {sum * i}\") #displaying 1 + 2 = 2\n",
    "    sum *= i #multiplying the sum with the elements of tuples\n",
    "print(f\"Final sum: {sum}\")\n"
   ]
  },
  {
   "cell_type": "markdown",
   "id": "f84ce0c8",
   "metadata": {},
   "source": [
    "# Set operations"
   ]
  },
  {
   "cell_type": "code",
   "execution_count": 18,
   "id": "e1dd9aa4",
   "metadata": {},
   "outputs": [
    {
     "name": "stdout",
     "output_type": "stream",
     "text": [
      "intersection:{1, 3, 5, 7, 9}\n",
      "intersection:{1, 3, 5, 7, 9}\n"
     ]
    }
   ],
   "source": [
    "set1=set(range(1,11,2)) #setting the values for set1 using range\n",
    "set2=(1,3,5,7,9) #setting the values for set2 in general convension\n",
    "union=set1.union(set2) #doing union operation between set1 and set2 using union() method\n",
    "intersection=set1.intersection(set2) #doing intersection operation between set1 and set2 using intersection() method\n",
    "#Printing them\n",
    "print(f\"intersection:{union}\")\n",
    "print(f\"intersection:{intersection}\")"
   ]
  },
  {
   "cell_type": "markdown",
   "id": "bf7ab3c0",
   "metadata": {},
   "source": [
    "# Dictionary operations"
   ]
  },
  {
   "cell_type": "code",
   "execution_count": 20,
   "id": "f259bba7",
   "metadata": {},
   "outputs": [
    {
     "name": "stdout",
     "output_type": "stream",
     "text": [
      "{'a': 97, 'b': 98, 'c': 99, 'd': 100, 'e': 101}\n"
     ]
    }
   ],
   "source": [
    "my_dict = {\"a\": 97, \"b\": 98, \"c\": 99, \"d\": 100, \"e\": 101} #Creating a dictinary and printing them\n",
    "print(my_dict)"
   ]
  },
  {
   "cell_type": "markdown",
   "id": "dd4ddcbe",
   "metadata": {},
   "source": [
    "# Functional Programming"
   ]
  },
  {
   "cell_type": "code",
   "execution_count": 40,
   "id": "5df82b74",
   "metadata": {},
   "outputs": [
    {
     "name": "stdout",
     "output_type": "stream",
     "text": [
      "<class 'list'>\n"
     ]
    },
    {
     "ename": "TypeError",
     "evalue": "'list' object is not callable",
     "output_type": "error",
     "traceback": [
      "\u001b[0;31m---------------------------------------------------------------------------\u001b[0m",
      "\u001b[0;31mTypeError\u001b[0m                                 Traceback (most recent call last)",
      "Cell \u001b[0;32mIn[40], line 8\u001b[0m\n\u001b[1;32m      6\u001b[0m \u001b[38;5;28mprint\u001b[39m(\u001b[38;5;28mtype\u001b[39m(num))\n\u001b[1;32m      7\u001b[0m sq\u001b[38;5;241m=\u001b[39m\u001b[38;5;28mmap\u001b[39m(squareFunc,num)\n\u001b[0;32m----> 8\u001b[0m \u001b[38;5;28mprint\u001b[39m(\u001b[38;5;28mlist\u001b[39m(sq))\n",
      "\u001b[0;31mTypeError\u001b[0m: 'list' object is not callable"
     ]
    }
   ],
   "source": [
    "#defining the function\n",
    "def squareFunc(x):\n",
    "    return x ** 2\n",
    "#creating a list for the function parameter \n",
    "num = [1,2,3,4,5]\n",
    "print(type(num))\n",
    "sq=map(squareFunc,num)\n",
    "print(list(sq))"
   ]
  },
  {
   "cell_type": "markdown",
   "id": "3f829bf8",
   "metadata": {},
   "source": [
    "# The function operation code worked on others machine not not working for mine."
   ]
  },
  {
   "cell_type": "code",
   "execution_count": 42,
   "id": "e2edb90f",
   "metadata": {},
   "outputs": [
    {
     "name": "stdout",
     "output_type": "stream",
     "text": [
      "<map object at 0x105ccd960>\n"
     ]
    }
   ],
   "source": [
    "#defining the function\n",
    "def squareFunc(x):\n",
    "    return x ** 2\n",
    "#creating a list for the function parameter \n",
    "num = [1,2,3,4,5]\n",
    "sq=map(squareFunc,num)\n",
    "print(sq)"
   ]
  },
  {
   "cell_type": "code",
   "execution_count": null,
   "id": "a2d702e7",
   "metadata": {},
   "outputs": [],
   "source": []
  }
 ],
 "metadata": {
  "kernelspec": {
   "display_name": "Python 3 (ipykernel)",
   "language": "python",
   "name": "python3"
  },
  "language_info": {
   "codemirror_mode": {
    "name": "ipython",
    "version": 3
   },
   "file_extension": ".py",
   "mimetype": "text/x-python",
   "name": "python",
   "nbconvert_exporter": "python",
   "pygments_lexer": "ipython3",
   "version": "3.11.4"
  }
 },
 "nbformat": 4,
 "nbformat_minor": 5
}
